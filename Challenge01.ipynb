{
 "cells": [
  {
   "cell_type": "markdown",
   "metadata": {},
   "source": [
    "## Exercise 1\n",
    "\n",
    "Cost of meal = 54.76 <br>\n",
    "Tax = 7.85% <br>\n",
    "Tip = 15% <br>\n",
    "Find tax amount, cost after tax, tip amount, and total cost"
   ]
  },
  {
   "cell_type": "markdown",
   "metadata": {},
   "source": [
    "### Solution 1"
   ]
  },
  {
   "cell_type": "code",
   "execution_count": 42,
   "metadata": {},
   "outputs": [
    {
     "name": "stdout",
     "output_type": "stream",
     "text": [
      "If the cost of meal is 54.76 $, tax is 7.85 % and the tip is 15 % then :\n",
      "\n",
      "Tax amount is 4.30 $ \n",
      "Cost after adding tax is 59.06 $ \n",
      "Tip amount is 8.21 $ \n",
      "Total cost is 67.27 $ \n"
     ]
    }
   ],
   "source": [
    "cost_meal = 54.76\n",
    "tax = 7.85\n",
    "tip = 15\n",
    "\n",
    "print(\"If the cost of meal is\", cost_meal,\"$, tax is\", tax, \"% and the tip is\", tip,\"% then :\\n\" )\n",
    "\n",
    "print(\"Tax amount is\", \"{:.2f}\".format((cost_meal*tax)/100), end=' $ \\n')\n",
    "print(\"Cost after adding tax is\", \"{:.2f}\".format((cost_meal*tax)/100 + cost_meal), end=' $ \\n')\n",
    "print(\"Tip amount is\", \"{:.2f}\".format((cost_meal*tip)/100), end=' $ \\n')\n",
    "print(\"Total cost is\", \"{:.2f}\".format(cost_meal + (cost_meal*tax)/100 + (cost_meal*tip)/100), end=' $ \\n')\n"
   ]
  },
  {
   "cell_type": "markdown",
   "metadata": {},
   "source": [
    "### Solution 2"
   ]
  },
  {
   "cell_type": "code",
   "execution_count": 45,
   "metadata": {},
   "outputs": [
    {
     "name": "stdout",
     "output_type": "stream",
     "text": [
      "If the cost of meal is 54.76 $, tax is 7.85 % and the tip is 15 % then :\n",
      "\n",
      "Tax amount is 4.30 $ \n",
      "Cost after adding tax is 59.06 $ \n",
      "Tip amount is 8.21 $ \n",
      "Total cost is 67.27 $ \n"
     ]
    }
   ],
   "source": [
    "cost_meal = 54.76\n",
    "tax = 7.85\n",
    "tip = 15\n",
    "\n",
    "tax_amount = (cost_meal*tax)/100 \n",
    "tip_amount = (cost_meal*tip)/100\n",
    "total_cost = cost_meal + tax_amount + tip_amount\n",
    "\n",
    "# Calculating the amounts of tax, tip and total cost and saving them in variables to print them directly later on \n",
    "\n",
    "print(\"If the cost of meal is\", cost_meal,\"$, tax is\", tax, \"% and the tip is\", tip,\"% then :\\n\" )\n",
    "\n",
    "print(\"Tax amount is\", \"{:.2f}\".format(tax_amount), end=' $ \\n')\n",
    "print(\"Cost after adding tax is\", \"{:.2f}\".format(tax_amount + cost_meal), end=' $ \\n')\n",
    "print(\"Tip amount is\", \"{:.2f}\".format(tip_amount), end=' $ \\n')\n",
    "print(\"Total cost is\", \"{:.2f}\".format(cost_meal + tax_amount + tip_amount), end=' $ \\n')\n",
    "\n",
    "#Calling the variables instead of calculating the costs inside of the print\n"
   ]
  }
 ],
 "metadata": {
  "kernelspec": {
   "display_name": "Python 3",
   "language": "python",
   "name": "python3"
  },
  "language_info": {
   "codemirror_mode": {
    "name": "ipython",
    "version": 3
   },
   "file_extension": ".py",
   "mimetype": "text/x-python",
   "name": "python",
   "nbconvert_exporter": "python",
   "pygments_lexer": "ipython3",
   "version": "3.11.4"
  },
  "orig_nbformat": 4
 },
 "nbformat": 4,
 "nbformat_minor": 2
}
