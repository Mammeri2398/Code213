{
 "cells": [
  {
   "cell_type": "markdown",
   "metadata": {},
   "source": [
    "This is a test"
   ]
  },
  {
   "cell_type": "code",
   "execution_count": 13,
   "metadata": {},
   "outputs": [
    {
     "name": "stdout",
     "output_type": "stream",
     "text": [
      "Hello World\n"
     ]
    }
   ],
   "source": [
    "print(\"Hello World\")"
   ]
  },
  {
   "cell_type": "code",
   "execution_count": 25,
   "metadata": {},
   "outputs": [
    {
     "name": "stdout",
     "output_type": "stream",
     "text": [
      "Type your name\n",
      "Type your family name\n",
      "Type your age\n",
      "Your name is AbdelMalek , your family name is MAMMERI and your are 25 years old\n"
     ]
    }
   ],
   "source": [
    "print(\"Type your name\")\n",
    "Name = input()\n",
    "print(\"Type your family name\")\n",
    "FamilyName = input()\n",
    "print(\"Type your age\")\n",
    "Age = input()\n",
    "\n",
    "print(\"Your name is\", Name, \", your family name is\", FamilyName, \"and your are\", Age, \"years old\")\n"
   ]
  },
  {
   "cell_type": "code",
   "execution_count": 38,
   "metadata": {},
   "outputs": [
    {
     "name": "stdout",
     "output_type": "stream",
     "text": [
      "Welcome to your 2 chapter !, we hope you enjoy it 100.0\n"
     ]
    }
   ],
   "source": [
    "#a = int\n",
    "#b = float\n",
    "a = 2\n",
    "b = 100.0\n",
    "\n",
    "print(\"Welcome to your\", a, \"chapter !, we hope you enjoy it\", b)"
   ]
  },
  {
   "cell_type": "code",
   "execution_count": 17,
   "metadata": {},
   "outputs": [
    {
     "name": "stdout",
     "output_type": "stream",
     "text": [
      "7\n",
      "17\n"
     ]
    }
   ],
   "source": [
    "X = [5,2]\n",
    " \n",
    "S = sum(X)\n",
    "print(S)\n",
    " \n",
    "S = sum(X, 10)\n",
    "print(S)"
   ]
  },
  {
   "cell_type": "code",
   "execution_count": 28,
   "metadata": {},
   "outputs": [
    {
     "name": "stdout",
     "output_type": "stream",
     "text": [
      "15.899999999999999\n"
     ]
    }
   ],
   "source": [
    "\n",
    "A = float(input())\n",
    "B = float(input())\n",
    "\n",
    "S = A + B \n",
    "\n",
    "print (S)"
   ]
  },
  {
   "cell_type": "code",
   "execution_count": 31,
   "metadata": {},
   "outputs": [
    {
     "name": "stdout",
     "output_type": "stream",
     "text": [
      "Donner la température en F°\n",
      "La température en C° est 37.77777777777778\n"
     ]
    }
   ],
   "source": [
    "print(\"Donner la température en F°\")\n",
    "F = float(input())\n",
    "\n",
    "C = float((F - 32)*5/9)\n",
    "\n",
    "print(\"La température en C° est\", C)"
   ]
  },
  {
   "cell_type": "code",
   "execution_count": 36,
   "metadata": {},
   "outputs": [
    {
     "name": "stdout",
     "output_type": "stream",
     "text": [
      "La surface est 56.0\n"
     ]
    }
   ],
   "source": [
    "#print(\"Donner la largeur\")\n",
    "Largeur = float(input(\"Donner la largeur : \"))\n",
    "\n",
    "#print(\"Donner la longueur\")\n",
    "Longueur = float(input(\"Donner la longueur : \"))\n",
    "\n",
    "Surface = Largeur * Longueur\n",
    "print(\"La surface est\", Surface)"
   ]
  },
  {
   "cell_type": "code",
   "execution_count": 39,
   "metadata": {},
   "outputs": [
    {
     "name": "stdout",
     "output_type": "stream",
     "text": [
      "New A 1.0\n",
      "New B 2.0\n"
     ]
    }
   ],
   "source": [
    "Var_A = float(input(\"Donner la valeur de A\"))\n",
    "Var_B = float(input(\"Donner la valeur de B\"))\n",
    "\n",
    "#Var_A, Var_B = Var_B, Var_A\n",
    "\n",
    "Var_C = Var_A\n",
    "Var_A = Var_B\n",
    "Var_B = Var_C\n",
    "\n",
    "print(\"New A\", Var_A)\n",
    "print(\"New B\", Var_B)"
   ]
  },
  {
   "cell_type": "code",
   "execution_count": 42,
   "metadata": {},
   "outputs": [
    {
     "name": "stdout",
     "output_type": "stream",
     "text": [
      "La moyenne est 14.6\n"
     ]
    }
   ],
   "source": [
    "Val_1 = float(input(\"Donner la 1er valeur\"))\n",
    "Val_2 = float(input(\"Donner la 2eme valeur\"))\n",
    "Val_3 = float(input(\"Donner la 3eme valeur\"))\n",
    "\n",
    "Moy = (Val_1 + Val_2 + Val_3)/3\n",
    "\n",
    "print(\"La moyenne est\", Moy)"
   ]
  },
  {
   "cell_type": "code",
   "execution_count": 46,
   "metadata": {},
   "outputs": [
    {
     "name": "stdout",
     "output_type": "stream",
     "text": [
      "125 min est : 2 H et 5 Min\n"
     ]
    }
   ],
   "source": [
    "Minutes = int(input(\"Donner l'heure en minutes seulement\"))\n",
    "\n",
    "Heures = Minutes // 60\n",
    "Heures_Min = Minutes % 60\n",
    "\n",
    "print(Minutes, \"min est :\", Heures, \"H et\", Heures_Min, \"Min\")"
   ]
  },
  {
   "cell_type": "code",
   "execution_count": 49,
   "metadata": {},
   "outputs": [
    {
     "name": "stdout",
     "output_type": "stream",
     "text": [
      "Looking around in bedroom\n",
      "Pretty small\n"
     ]
    }
   ],
   "source": [
    "# Define variables\n",
    "\n",
    "room = \"Bed\"\n",
    "area = 14.0\n",
    "\n",
    "# if-elif-else construct for room\n",
    "\n",
    "if room == \"Kit\" :\n",
    "    print(\"Looking around in the kitchen\")\n",
    "elif room == \"Bed\" :\n",
    "    print(\"Looking around in bedroom\")\n",
    "else :\n",
    "    print(\"Looking around elsewhere\")\n",
    "\n",
    "#if-elif-else construct for area\n",
    "\n",
    "if area>15 :\n",
    "    print(\"Big place\")\n",
    "else:\n",
    "    print(\"Pretty small\")"
   ]
  },
  {
   "cell_type": "code",
   "execution_count": 52,
   "metadata": {},
   "outputs": [
    {
     "name": "stdout",
     "output_type": "stream",
     "text": [
      "impair\n"
     ]
    }
   ],
   "source": [
    "Val = int(input(\"Donner un chiffre\"))\n",
    "\n",
    "if Val % 2 == 0 :\n",
    "    print(\"Pair\")\n",
    "else :\n",
    "    print(\"impair\")"
   ]
  },
  {
   "cell_type": "code",
   "execution_count": 2,
   "metadata": {},
   "outputs": [
    {
     "name": "stdout",
     "output_type": "stream",
     "text": [
      "Le plus grand 20\n"
     ]
    }
   ],
   "source": [
    "A = 3\n",
    "B = 15\n",
    "C = 20\n",
    "\n",
    "# max_value = max(A, B, C)\n",
    "\n",
    "if A >= B and A >= C:\n",
    "    max_value = A\n",
    "elif B >= A and B >= C:\n",
    "    max_value = B\n",
    "else:\n",
    "    max_value = C\n",
    "\n",
    "print(\"Le plus grand\", max_value)"
   ]
  },
  {
   "cell_type": "markdown",
   "metadata": {},
   "source": [
    "21-July-2023 // Session 02 "
   ]
  }
 ],
 "metadata": {
  "kernelspec": {
   "display_name": "Python 3",
   "language": "python",
   "name": "python3"
  },
  "language_info": {
   "codemirror_mode": {
    "name": "ipython",
    "version": 3
   },
   "file_extension": ".py",
   "mimetype": "text/x-python",
   "name": "python",
   "nbconvert_exporter": "python",
   "pygments_lexer": "ipython3",
   "version": "3.11.4"
  },
  "orig_nbformat": 4
 },
 "nbformat": 4,
 "nbformat_minor": 2
}
