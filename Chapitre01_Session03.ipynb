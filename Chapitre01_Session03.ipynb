{
 "cells": [
  {
   "cell_type": "code",
   "execution_count": 20,
   "metadata": {},
   "outputs": [
    {
     "name": "stdout",
     "output_type": "stream",
     "text": [
      "5040\n"
     ]
    }
   ],
   "source": [
    "Val = int(input(\"Donner un chiffre\"))\n",
    "fact = 1\n",
    "if (Val > 0):\n",
    "    for i in range (1, Val+1):\n",
    "        fact = fact * i\n",
    "        #Val = Val - 1\n",
    "        #print(\"Le chiffre est positive\")\n",
    "        #fact 0 5 15 30 50 75  \n",
    "        #i    0 1 2  3  4  5\n",
    "        #5 \n",
    "        # 5 * 4 * 3 * 2 * 1\n",
    "else:\n",
    "    print(\"Le chiffre est négative\")\n",
    "\n",
    "\n",
    "print(fact)\n"
   ]
  },
  {
   "cell_type": "code",
   "execution_count": 19,
   "metadata": {},
   "outputs": [
    {
     "name": "stdout",
     "output_type": "stream",
     "text": [
      "5040\n"
     ]
    }
   ],
   "source": [
    "i = 7*6*5*4*3*2*1\n",
    "print(i)"
   ]
  },
  {
   "cell_type": "code",
   "execution_count": 5,
   "metadata": {},
   "outputs": [
    {
     "name": "stdout",
     "output_type": "stream",
     "text": [
      "La valeur max est 99999\n"
     ]
    }
   ],
   "source": [
    "L = [55, 98, 1000, 99999, 66, 9]\n",
    "Val_Max = L[0]\n",
    "\n",
    "for i in range (len(L)):\n",
    "    if (Val_Max < L[i]):\n",
    "        Val_Max = L[i]\n",
    "\n",
    "print(\"La valeur max est\", Val_Max)\n",
    "\n"
   ]
  },
  {
   "cell_type": "code",
   "execution_count": 15,
   "metadata": {},
   "outputs": [
    {
     "name": "stdout",
     "output_type": "stream",
     "text": [
      "aaaaa\n",
      "{'a': 5}\n"
     ]
    }
   ],
   "source": [
    "Char = input()\n",
    "#count = 0\n",
    "My_Dict = {}\n",
    "Char = Char.lower()\n",
    "for i in range(len(Char)):\n",
    "    #count= count+1\n",
    "   \n",
    "    if Char[i] in My_Dict.keys() :\n",
    "        My_Dict[ Char[i]] += 1\n",
    "    else :\n",
    "        My_Dict[Char[i]] = 1\n",
    "\n",
    "print(Char)\n",
    "print(My_Dict)\n",
    "\n",
    "#print(count)\n"
   ]
  },
  {
   "cell_type": "markdown",
   "metadata": {},
   "source": [
    "Sets"
   ]
  },
  {
   "cell_type": "code",
   "execution_count": 17,
   "metadata": {},
   "outputs": [
    {
     "name": "stdout",
     "output_type": "stream",
     "text": [
      "\n",
      "Set with the use of String: \n",
      "{'W', 'm', 'c', 'o', 'e', 'l'}\n"
     ]
    }
   ],
   "source": [
    "set1 = set(\"Welcome\")\n",
    "\n",
    "print(\"\\nSet with the use of String: \")\n",
    "\n",
    "print(set1)"
   ]
  },
  {
   "cell_type": "code",
   "execution_count": 20,
   "metadata": {},
   "outputs": [
    {
     "name": "stdout",
     "output_type": "stream",
     "text": [
      "{1, 2, 5, 6}\n",
      "1\n",
      "2\n",
      "5\n",
      "6\n",
      "{1, 2, 99, 5, 6}\n"
     ]
    }
   ],
   "source": [
    "s = set([1, 1, 2, 5, 6, 6])\n",
    "print(s)\n",
    "for i in s:\n",
    "    print(i)\n",
    "\n",
    "s.add(99)\n",
    "print(s)\n",
    "\n"
   ]
  },
  {
   "cell_type": "code",
   "execution_count": 32,
   "metadata": {},
   "outputs": [
    {
     "name": "stdout",
     "output_type": "stream",
     "text": [
      "set()\n",
      "{0, 1, 2, 3, 4, 5, 6, 7, 8, 9, 10}\n"
     ]
    }
   ],
   "source": [
    "L01 = [2 , 4, 6, 8, 10]\n",
    "L02 = [0, 1, 3, 5, 7, 9]\n",
    "\n",
    "set01 = set(L01)\n",
    "set02 = set(L02)\n",
    "\n",
    "\n",
    "\n",
    "print( set01.intersection(set02) )\n",
    "print( set01.union(set02) )\n",
    "\n"
   ]
  },
  {
   "cell_type": "code",
   "execution_count": 48,
   "metadata": {},
   "outputs": [
    {
     "name": "stdout",
     "output_type": "stream",
     "text": [
      "True\n"
     ]
    }
   ],
   "source": [
    "Val = input()\n",
    "\n",
    "\n",
    "if (Val == Val[::-1]):\n",
    "    print(\"True\")\n",
    "else: \n",
    "    print(\"False\")"
   ]
  },
  {
   "cell_type": "code",
   "execution_count": 53,
   "metadata": {},
   "outputs": [
    {
     "name": "stdout",
     "output_type": "stream",
     "text": [
      "65\n"
     ]
    }
   ],
   "source": [
    "Val = input()\n",
    "\n",
    "print(ord(Val))"
   ]
  },
  {
   "cell_type": "code",
   "execution_count": 60,
   "metadata": {},
   "outputs": [
    {
     "name": "stdout",
     "output_type": "stream",
     "text": [
      "20\n",
      "18\n",
      "16\n",
      "14\n",
      "12\n",
      "10\n",
      "8\n",
      "6\n",
      "4\n",
      "2\n",
      "0\n"
     ]
    }
   ],
   "source": [
    "x = 20\n",
    "\n",
    "while x >= 0:\n",
    "        print(x)\n",
    "        x-=2\n",
    "\n",
    "\n"
   ]
  },
  {
   "cell_type": "markdown",
   "metadata": {},
   "source": [
    "Write a program to print a multiplication table for a given number using a for loop"
   ]
  },
  {
   "cell_type": "code",
   "execution_count": 64,
   "metadata": {},
   "outputs": [
    {
     "name": "stdout",
     "output_type": "stream",
     "text": [
      "5 * 0 = 0\n",
      "5 * 1 = 5\n",
      "5 * 2 = 10\n",
      "5 * 3 = 15\n",
      "5 * 4 = 20\n",
      "5 * 5 = 25\n",
      "5 * 6 = 30\n",
      "5 * 7 = 35\n",
      "5 * 8 = 40\n",
      "5 * 9 = 45\n"
     ]
    }
   ],
   "source": [
    "x = int(input())\n",
    "for i in range (10):\n",
    "    print(x, \"*\", i, \"=\", x*i)\n"
   ]
  },
  {
   "cell_type": "markdown",
   "metadata": {},
   "source": [
    "Write a program to check if a given number is prime using a for loop"
   ]
  },
  {
   "cell_type": "code",
   "execution_count": 85,
   "metadata": {},
   "outputs": [
    {
     "name": "stdout",
     "output_type": "stream",
     "text": [
      "5 is a prime number\n"
     ]
    }
   ],
   "source": [
    "num = int(input())\n",
    "is_prime = True\n",
    "\n",
    "if num <= 1:\n",
    "    is_prime = False\n",
    "else:\n",
    "    for i in range(2, num):\n",
    "        if num % i == 0:\n",
    "            is_prime = False\n",
    "            break\n",
    "\n",
    "if is_prime:\n",
    "    print(num, \"is a prime number\")\n",
    "else:\n",
    "    print(num, \"isnt a prime number\")\n"
   ]
  },
  {
   "cell_type": "markdown",
   "metadata": {},
   "source": [
    "Write a program to find the second smallest number in a list using a for loop."
   ]
  },
  {
   "cell_type": "code",
   "execution_count": 91,
   "metadata": {},
   "outputs": [
    {
     "name": "stdout",
     "output_type": "stream",
     "text": [
      "22\n",
      "14\n"
     ]
    }
   ],
   "source": [
    "L = [22, 97, 75, 66, 91, 14, 63, 72, 66, 52]\n",
    "Min_Val = L[0]\n",
    "print(Min_Val)\n",
    "\n",
    "for i in range(len(L)):\n",
    "    if (L[i] < Min_Val):\n",
    "        Min_Val = L[i]\n",
    "\n",
    "print(Min_Val)\n",
    "\n"
   ]
  },
  {
   "cell_type": "code",
   "execution_count": 105,
   "metadata": {},
   "outputs": [
    {
     "name": "stdout",
     "output_type": "stream",
     "text": [
      "[63, 57, 84, 95, 1, 59, 41, 75, 91, 94, 24, 75, 15, 91, 70, 87, 72, 25, 75, 92, 25, 21, 92, 86, 21, 58, 54, 78, 37, 83]\n"
     ]
    }
   ],
   "source": [
    "import random\n",
    "random_list = [random.randint(1, 100) for _ in range(30)]\n",
    "print(random_list)"
   ]
  },
  {
   "cell_type": "markdown",
   "metadata": {},
   "source": [
    "The Fibonacci series"
   ]
  },
  {
   "cell_type": "code",
   "execution_count": 103,
   "metadata": {},
   "outputs": [
    {
     "name": "stdout",
     "output_type": "stream",
     "text": [
      "34\n"
     ]
    }
   ],
   "source": [
    "x = int(input(\"Wanted Fib\"))\n",
    "\n",
    "\n",
    "fib_series = [0, 1]\n",
    "\n",
    "for i in range(2, x):\n",
    "    next_num = fib_series[i-1] + fib_series[i-2]\n",
    "    fib_series.append(next_num)\n",
    "\n",
    "\n",
    "#print(fib_series)\n",
    "print(fib_series[x-1])"
   ]
  },
  {
   "cell_type": "markdown",
   "metadata": {},
   "source": [
    "Write a program to count the number of occurrences of a given item in a list using a for loop.\n"
   ]
  },
  {
   "cell_type": "code",
   "execution_count": 109,
   "metadata": {},
   "outputs": [
    {
     "name": "stdout",
     "output_type": "stream",
     "text": [
      "5\n"
     ]
    }
   ],
   "source": [
    "L = [63, 57, 84, 91, 1, 59, 41, 75, 91, 91, 24, 75, 15, 91, 70, 87, 72, 25, 75, 91, 25, 21, 92, 86, 21, 58, 54, 78, 37, 83]\n",
    "num = int(input())\n",
    "occ = 0\n",
    "for i in range (len(L)):\n",
    "    if L[i] == num :\n",
    "        occ += 1\n",
    "\n",
    "print(occ) "
   ]
  },
  {
   "cell_type": "markdown",
   "metadata": {},
   "source": [
    "Write a program to reverse the order of items in a list using a for loop.\n"
   ]
  },
  {
   "cell_type": "code",
   "execution_count": 115,
   "metadata": {},
   "outputs": [
    {
     "name": "stdout",
     "output_type": "stream",
     "text": [
      "[10, 9, 8, 7, 6, 5, 4, 3, 2, 1]\n"
     ]
    }
   ],
   "source": [
    "L = [1, 2, 3, 4, 5, 6, 7, 8, 9, 10]\n",
    "M= []\n",
    "for i in range(len(L)-1,-1,-1):\n",
    "    #print(L[i])\n",
    "    M.append(L[i])\n",
    "\n",
    "print(M)\n"
   ]
  },
  {
   "cell_type": "markdown",
   "metadata": {},
   "source": [
    "Write a program to create a new list that contains only the first letter of each item in a given list using a for loop.\n"
   ]
  },
  {
   "cell_type": "code",
   "execution_count": null,
   "metadata": {},
   "outputs": [],
   "source": []
  }
 ],
 "metadata": {
  "kernelspec": {
   "display_name": "Python 3",
   "language": "python",
   "name": "python3"
  },
  "language_info": {
   "codemirror_mode": {
    "name": "ipython",
    "version": 3
   },
   "file_extension": ".py",
   "mimetype": "text/x-python",
   "name": "python",
   "nbconvert_exporter": "python",
   "pygments_lexer": "ipython3",
   "version": "3.11.4"
  },
  "orig_nbformat": 4
 },
 "nbformat": 4,
 "nbformat_minor": 2
}
