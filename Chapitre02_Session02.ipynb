{
 "cells": [
  {
   "cell_type": "code",
   "execution_count": 1,
   "metadata": {},
   "outputs": [
    {
     "name": "stdout",
     "output_type": "stream",
     "text": [
      "salam\n",
      "salam\n",
      "salam\n"
     ]
    }
   ],
   "source": [
    "count = 0\n",
    "while (count<3):\n",
    "    print(\"salam\")\n",
    "    count=count+1"
   ]
  },
  {
   "cell_type": "code",
   "execution_count": 2,
   "metadata": {},
   "outputs": [
    {
     "name": "stdout",
     "output_type": "stream",
     "text": [
      "0M 1M 2M 3M 4M 5M 6M 7M 8M 9M End\n"
     ]
    }
   ],
   "source": [
    "#x=0\n",
    "for index in range (0 , 10):\n",
    "    print(index, end='M ') # end=' ' is used to specify the end of print\n",
    "    #x=x+1\n",
    "else:\n",
    "    print(\"End\")"
   ]
  },
  {
   "cell_type": "code",
   "execution_count": 3,
   "metadata": {},
   "outputs": [
    {
     "name": "stdout",
     "output_type": "stream",
     "text": [
      "0\n",
      "1\n",
      "2\n",
      "3\n",
      "4\n",
      "5\n",
      "Finally finished!\n"
     ]
    }
   ],
   "source": [
    "for x in range(6):\n",
    "  if x == 7: break\n",
    "  print(x)\n",
    "else:\n",
    "  print(\"Finally finished!\")"
   ]
  },
  {
   "cell_type": "code",
   "execution_count": 4,
   "metadata": {},
   "outputs": [
    {
     "name": "stdout",
     "output_type": "stream",
     "text": [
      "2 4 6 8 10 12 14 16 18 20 "
     ]
    }
   ],
   "source": [
    "# Without IF\n",
    "\n",
    "for index in range (2,21,2):\n",
    "    print(index, end=' ')"
   ]
  },
  {
   "cell_type": "code",
   "execution_count": 5,
   "metadata": {},
   "outputs": [
    {
     "name": "stdout",
     "output_type": "stream",
     "text": [
      "2 4 6 8 10 12 14 16 18 20 "
     ]
    }
   ],
   "source": [
    "# Using IF\n",
    "\n",
    "for index in range(1,21):\n",
    "    if (index%2==0):\n",
    "        print(index, end=' ')"
   ]
  },
  {
   "cell_type": "code",
   "execution_count": 6,
   "metadata": {},
   "outputs": [
    {
     "ename": "ValueError",
     "evalue": "invalid literal for int() with base 10: ''",
     "output_type": "error",
     "traceback": [
      "\u001b[1;31m---------------------------------------------------------------------------\u001b[0m",
      "\u001b[1;31mValueError\u001b[0m                                Traceback (most recent call last)",
      "Cell \u001b[1;32mIn[6], line 6\u001b[0m\n\u001b[0;32m      4\u001b[0m \u001b[39mwhile\u001b[39;00m (x\u001b[39m>\u001b[39m\u001b[39m0\u001b[39m):\n\u001b[0;32m      5\u001b[0m     somme\u001b[39m=\u001b[39msomme\u001b[39m+\u001b[39mx\n\u001b[1;32m----> 6\u001b[0m     x\u001b[39m=\u001b[39m\u001b[39mint\u001b[39;49m(\u001b[39minput\u001b[39;49m())\n\u001b[0;32m      8\u001b[0m \u001b[39mprint\u001b[39m(somme\u001b[39m-\u001b[39m\u001b[39m1\u001b[39m) \n",
      "\u001b[1;31mValueError\u001b[0m: invalid literal for int() with base 10: ''"
     ]
    }
   ],
   "source": [
    "somme=0\n",
    "x=1\n",
    "\n",
    "while (x>0):\n",
    "    somme=somme+x\n",
    "    x=int(input())\n",
    "    \n",
    "print(somme-1) "
   ]
  },
  {
   "cell_type": "code",
   "execution_count": null,
   "metadata": {},
   "outputs": [
    {
     "name": "stdout",
     "output_type": "stream",
     "text": [
      "15\n"
     ]
    }
   ],
   "source": [
    "somme=0\n",
    "while True:\n",
    "    x = int(input())\n",
    "    if (x>=0):\n",
    "        somme=somme+x\n",
    "    else:\n",
    "        break\n",
    "print(somme)\n",
    "\n",
    "\n"
   ]
  },
  {
   "cell_type": "code",
   "execution_count": null,
   "metadata": {},
   "outputs": [
    {
     "name": "stdout",
     "output_type": "stream",
     "text": [
      "10\n"
     ]
    }
   ],
   "source": [
    "Name = input()\n",
    "count=0\n",
    "Name = Name.lower() # To trnsform from uppercase to lowercase\n",
    "\n",
    "for x in Name:\n",
    "    if x in \"aeiou\":\n",
    "        count+=1\n",
    "print(count)\n"
   ]
  },
  {
   "cell_type": "code",
   "execution_count": null,
   "metadata": {},
   "outputs": [
    {
     "name": "stdout",
     "output_type": "stream",
     "text": [
      "1 x 1 = 1\n",
      "1 x 2 = 2\n",
      "1 x 3 = 3\n",
      "1 x 4 = 4\n",
      "1 x 5 = 5\n",
      "1 x 6 = 6\n",
      "1 x 7 = 7\n",
      "1 x 8 = 8\n",
      "1 x 9 = 9\n",
      "1 x 10 = 10\n",
      "2 x 1 = 2\n",
      "2 x 2 = 4\n",
      "2 x 3 = 6\n",
      "2 x 4 = 8\n",
      "2 x 5 = 10\n",
      "2 x 6 = 12\n",
      "2 x 7 = 14\n",
      "2 x 8 = 16\n",
      "2 x 9 = 18\n",
      "2 x 10 = 20\n",
      "3 x 1 = 3\n",
      "3 x 2 = 6\n",
      "3 x 3 = 9\n",
      "3 x 4 = 12\n",
      "3 x 5 = 15\n",
      "3 x 6 = 18\n",
      "3 x 7 = 21\n",
      "3 x 8 = 24\n",
      "3 x 9 = 27\n",
      "3 x 10 = 30\n",
      "4 x 1 = 4\n",
      "4 x 2 = 8\n",
      "4 x 3 = 12\n",
      "4 x 4 = 16\n",
      "4 x 5 = 20\n",
      "4 x 6 = 24\n",
      "4 x 7 = 28\n",
      "4 x 8 = 32\n",
      "4 x 9 = 36\n",
      "4 x 10 = 40\n",
      "5 x 1 = 5\n",
      "5 x 2 = 10\n",
      "5 x 3 = 15\n",
      "5 x 4 = 20\n",
      "5 x 5 = 25\n",
      "5 x 6 = 30\n",
      "5 x 7 = 35\n",
      "5 x 8 = 40\n",
      "5 x 9 = 45\n",
      "5 x 10 = 50\n",
      "6 x 1 = 6\n",
      "6 x 2 = 12\n",
      "6 x 3 = 18\n",
      "6 x 4 = 24\n",
      "6 x 5 = 30\n",
      "6 x 6 = 36\n",
      "6 x 7 = 42\n",
      "6 x 8 = 48\n",
      "6 x 9 = 54\n",
      "6 x 10 = 60\n",
      "7 x 1 = 7\n",
      "7 x 2 = 14\n",
      "7 x 3 = 21\n",
      "7 x 4 = 28\n",
      "7 x 5 = 35\n",
      "7 x 6 = 42\n",
      "7 x 7 = 49\n",
      "7 x 8 = 56\n",
      "7 x 9 = 63\n",
      "7 x 10 = 70\n",
      "8 x 1 = 8\n",
      "8 x 2 = 16\n",
      "8 x 3 = 24\n",
      "8 x 4 = 32\n",
      "8 x 5 = 40\n",
      "8 x 6 = 48\n",
      "8 x 7 = 56\n",
      "8 x 8 = 64\n",
      "8 x 9 = 72\n",
      "8 x 10 = 80\n",
      "9 x 1 = 9\n",
      "9 x 2 = 18\n",
      "9 x 3 = 27\n",
      "9 x 4 = 36\n",
      "9 x 5 = 45\n",
      "9 x 6 = 54\n",
      "9 x 7 = 63\n",
      "9 x 8 = 72\n",
      "9 x 9 = 81\n",
      "9 x 10 = 90\n",
      "10 x 1 = 10\n",
      "10 x 2 = 20\n",
      "10 x 3 = 30\n",
      "10 x 4 = 40\n",
      "10 x 5 = 50\n",
      "10 x 6 = 60\n",
      "10 x 7 = 70\n",
      "10 x 8 = 80\n",
      "10 x 9 = 90\n",
      "10 x 10 = 100\n"
     ]
    }
   ],
   "source": [
    "for i in range (1,11):\n",
    "    for j in range(1,11):\n",
    "        #print(i, \"x\", j, \"=\", i*j)\n",
    "\n",
    "        result=i*j\n",
    "        print(f\"{i} x {j} = {result}\")"
   ]
  },
  {
   "cell_type": "code",
   "execution_count": null,
   "metadata": {},
   "outputs": [
    {
     "name": "stdout",
     "output_type": "stream",
     "text": [
      "['a', 1, 2]\n",
      "['a', 1, 2]\n",
      "1\n",
      "['Welcome', 'Here']\n",
      "He\n",
      "['Here', ['a', 1, 2]]\n",
      "['Hello', 'Here']\n"
     ]
    }
   ],
   "source": [
    "List = [\"Hello\", \"Welcome\", \"Here\", [\"a\", 1, 2]]\n",
    "\n",
    "print(List[3])\n",
    "print(List[-1])\n",
    "print(List[-1][1])\n",
    "print(List[1 : 3])\n",
    "print(List[0][0 : 2])\n",
    "print(List[2 :])\n",
    "print(List[::2])\n"
   ]
  },
  {
   "cell_type": "code",
   "execution_count": 1,
   "metadata": {},
   "outputs": [
    {
     "name": "stdout",
     "output_type": "stream",
     "text": [
      "[1, 2, 3]\n"
     ]
    }
   ],
   "source": [
    "Mylist = [1, 2, 3, 1]\n",
    "Mylist.index(1)\n",
    "Mylist.pop()\n",
    "print(Mylist)"
   ]
  },
  {
   "cell_type": "code",
   "execution_count": null,
   "metadata": {},
   "outputs": [
    {
     "name": "stdout",
     "output_type": "stream",
     "text": [
      "100\n"
     ]
    }
   ],
   "source": [
    "MyList02 = [99, 64, 55, 98, 26, 100, 77]\n",
    "mx = MyList02[0]\n",
    "for i in range (len(MyList02)):\n",
    "    if MyList02[i] > mx:\n",
    "        mx=MyList02[i]\n",
    "print(mx)"
   ]
  },
  {
   "cell_type": "code",
   "execution_count": null,
   "metadata": {},
   "outputs": [
    {
     "name": "stdout",
     "output_type": "stream",
     "text": [
      "8\n"
     ]
    }
   ],
   "source": [
    "MyList02 = [99, 64, 55, 98, 26, 100, 77, 2]\n",
    "\n",
    "print(len(MyList02))"
   ]
  },
  {
   "cell_type": "code",
   "execution_count": null,
   "metadata": {},
   "outputs": [
    {
     "name": "stdout",
     "output_type": "stream",
     "text": [
      "La moyenne = 65.125\n"
     ]
    }
   ],
   "source": [
    "MyList02 = [99, 64, 55, 98, 26, 100, 77, 2]\n",
    "somme=0\n",
    "for i in range(len(MyList02)):\n",
    "    somme+=MyList02[i]\n",
    "\n",
    "print(\"La moyenne =\",somme/len(MyList02))"
   ]
  },
  {
   "cell_type": "code",
   "execution_count": null,
   "metadata": {},
   "outputs": [
    {
     "name": "stdout",
     "output_type": "stream",
     "text": [
      "La somme = 521\n",
      "La moyenne = 65.125\n"
     ]
    }
   ],
   "source": [
    "somme=0\n",
    "MyList02 = [99, 64, 55, 98, 26, 100, 77, 2]\n",
    "for j in MyList02:\n",
    "    somme+=j\n",
    "\n",
    "print(\"La somme =\", somme)\n",
    "print(\"La moyenne =\",somme/len(MyList02))"
   ]
  },
  {
   "cell_type": "code",
   "execution_count": null,
   "metadata": {},
   "outputs": [
    {
     "name": "stdout",
     "output_type": "stream",
     "text": [
      "True\n"
     ]
    }
   ],
   "source": [
    "print(type([]) is list)"
   ]
  },
  {
   "cell_type": "code",
   "execution_count": null,
   "metadata": {},
   "outputs": [
    {
     "name": "stdout",
     "output_type": "stream",
     "text": [
      "[None, None, None, None, None, None, None, None, None, None]\n"
     ]
    }
   ],
   "source": [
    "l = [None] * 10\n",
    "print(l)"
   ]
  },
  {
   "cell_type": "code",
   "execution_count": null,
   "metadata": {},
   "outputs": [
    {
     "name": "stdout",
     "output_type": "stream",
     "text": [
      "(1, 2, 3, 4)\n"
     ]
    }
   ],
   "source": [
    "Tuple = (1, 2, 3, 4)\n",
    "print(Tuple)"
   ]
  },
  {
   "cell_type": "code",
   "execution_count": null,
   "metadata": {},
   "outputs": [
    {
     "name": "stdout",
     "output_type": "stream",
     "text": [
      "Max value : 9426\n",
      "Min value : 2\n"
     ]
    }
   ],
   "source": [
    "Tuple01 = (4, 64, 2, 9426, 49, 62, 63, 98)\n",
    "Max_value = Tuple01[0]\n",
    "Min_Value = Tuple01[0]\n",
    "\n",
    "for i in range (len(Tuple01)):\n",
    "    #print(Tuple01[i], Max_value)\n",
    "    if Tuple01[i] > Max_value:\n",
    "        Max_value = Tuple01[i]\n",
    "    if Tuple01[i] < Min_Value:\n",
    "        Min_Value = Tuple01[i]\n",
    "\n",
    "print(\"Max value :\", Max_value)\n",
    "print(\"Min value :\", Min_Value)"
   ]
  },
  {
   "cell_type": "code",
   "execution_count": null,
   "metadata": {},
   "outputs": [
    {
     "name": "stdout",
     "output_type": "stream",
     "text": [
      "Yo! My name is AbdelMalek Mammeri and am 25 years old\n"
     ]
    }
   ],
   "source": [
    "Personel_Dict = {'First_Name' : 'AbdelMalek', \n",
    "                 'Last_Name' : 'Mammeri', \n",
    "                 'Age' : 25 , \n",
    "                 'Bio' : 'Yo!'}\n",
    "\n",
    "print(Personel_Dict['Bio'],\n",
    "      \"My name is\", \n",
    "      Personel_Dict['First_Name'], \n",
    "      Personel_Dict['Last_Name'], \n",
    "      \"and am\", \n",
    "      Personel_Dict['Age'], \n",
    "      \"years old\")"
   ]
  },
  {
   "cell_type": "code",
   "execution_count": 2,
   "metadata": {},
   "outputs": [
    {
     "data": {
      "text/plain": [
       "\"Student_Scores = {'Student01' : {'Name' : 'A','Math' : 15,'Science' : 10,'English' : 17},\\n                  'Student02' : {'Name' : 'B','Math' : 10,'Science' : 11,'English' : 12},\\n                  'Student03' : {'Name' : 'C','Math' : 19,'Science' : 18,'English' : 20}}\\n\\n\\n#Avrg01 = ((Student_Scores['Student01']['Math'] + Student_Scores['Student01']['Science'] + Student_Scores['Student01']['English'])/3)\\n#Avrg02 = ((Student_Scores['Student02']['Math'] + Student_Scores['Student01']['Science'] + Student_Scores['Student01']['English'])/3)\\n#Avrg03 = ((Student_Scores['Student03']['Math'] + Student_Scores['Student01']['Science'] + Student_Scores['Student01']['English'])/3) \\n\\nfor key, value in Student_Scores.items():\\n    avrg = ((Student_Scores[key]['Math'] + Student_Scores['Student01']['Science'] + Student_Scores['Student01']['English'])/3)\\n\\n    #Student_average = []\\n    Student_average.append(avrg)\\n\\n    for index,value in enumerate(Student_average):\\n        Student_dict_average[index] = avrg\\n\\nprint(Student_dict_averge)\\n\""
      ]
     },
     "execution_count": 2,
     "metadata": {},
     "output_type": "execute_result"
    }
   ],
   "source": [
    "\"\"\"Student_Scores = {'Student01' : {'Name' : 'A','Math' : 15,'Science' : 10,'English' : 17},\n",
    "                  'Student02' : {'Name' : 'B','Math' : 10,'Science' : 11,'English' : 12},\n",
    "                  'Student03' : {'Name' : 'C','Math' : 19,'Science' : 18,'English' : 20}}\n",
    "\n",
    "\n",
    "#Avrg01 = ((Student_Scores['Student01']['Math'] + Student_Scores['Student01']['Science'] + Student_Scores['Student01']['English'])/3)\n",
    "#Avrg02 = ((Student_Scores['Student02']['Math'] + Student_Scores['Student01']['Science'] + Student_Scores['Student01']['English'])/3)\n",
    "#Avrg03 = ((Student_Scores['Student03']['Math'] + Student_Scores['Student01']['Science'] + Student_Scores['Student01']['English'])/3) \n",
    "\n",
    "for key, value in Student_Scores.items():\n",
    "    avrg = ((Student_Scores[key]['Math'] + Student_Scores['Student01']['Science'] + Student_Scores['Student01']['English'])/3)\n",
    "\n",
    "    #Student_average = []\n",
    "    Student_average.append(avrg)\n",
    "\n",
    "    for index,value in enumerate(Student_average):\n",
    "        Student_dict_average[index] = avrg\n",
    "\n",
    "print(Student_dict_averge)\n",
    "\"\"\""
   ]
  },
  {
   "cell_type": "code",
   "execution_count": 1,
   "metadata": {},
   "outputs": [
    {
     "name": "stdout",
     "output_type": "stream",
     "text": [
      "{'Alice': 84.33333333333333, 'Bob': 91.66666666666667, 'Eve': 81.0}\n"
     ]
    }
   ],
   "source": [
    "# Exercise 1: Dictionary Manipulation\n",
    "\n",
    "# Create the dictionary with student scores\n",
    "student_scores = {\n",
    "    \"Alice\": [85, 90, 78],\n",
    "    \"Bob\": [92, 88, 95],\n",
    "    \"Eve\": [78, 85, 80]\n",
    "}\n",
    "\n",
    "# Calculate average scores and store in a new dictionary\n",
    "student_avg_scores = {}\n",
    "for student, scores in student_scores.items():\n",
    "    avg_score = sum(scores) / len(scores)\n",
    "    student_avg_scores[student] = avg_score\n",
    "\n",
    "# Print the result\n",
    "print(student_avg_scores)"
   ]
  },
  {
   "cell_type": "code",
   "execution_count": 4,
   "metadata": {},
   "outputs": [
    {
     "name": "stdout",
     "output_type": "stream",
     "text": [
      "Le chiffre est négative\n"
     ]
    }
   ],
   "source": [
    "Val = int(input(\"Donner un chiffre\"))\n",
    "if (Val > 0):\n",
    "    print(\"Le chiffre est positive\")\n",
    "else:\n",
    "    print(\"Le chiffre est négative\")"
   ]
  }
 ],
 "metadata": {
  "kernelspec": {
   "display_name": "Python 3",
   "language": "python",
   "name": "python3"
  },
  "language_info": {
   "codemirror_mode": {
    "name": "ipython",
    "version": 3
   },
   "file_extension": ".py",
   "mimetype": "text/x-python",
   "name": "python",
   "nbconvert_exporter": "python",
   "pygments_lexer": "ipython3",
   "version": "3.11.4"
  },
  "orig_nbformat": 4
 },
 "nbformat": 4,
 "nbformat_minor": 2
}
